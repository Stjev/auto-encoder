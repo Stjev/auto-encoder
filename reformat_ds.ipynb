{
 "cells": [
  {
   "cell_type": "code",
   "execution_count": 7,
   "id": "30398fd8-e0d4-46bb-9214-08be927ff0a2",
   "metadata": {},
   "outputs": [],
   "source": [
    "import os\n",
    "from PIL import Image\n",
    "from glob import glob\n",
    "from tqdm import tqdm"
   ]
  },
  {
   "cell_type": "code",
   "execution_count": 8,
   "id": "35133bed-4c69-45b3-8e2f-516654efa452",
   "metadata": {},
   "outputs": [
    {
     "name": "stderr",
     "output_type": "stream",
     "text": [
      "100%|███████████████████████████████████████████████████████████████████████████| 5000/5000 [06:52<00:00, 12.11it/s]\n"
     ]
    }
   ],
   "source": [
    "for img_file in tqdm(glob('./ds/img/*/*.png')):\n",
    "    resized = Image.open(img_file).resize((512, 256))\n",
    "    resized.save(img_file.replace('img', 'new_ds'))"
   ]
  },
  {
   "cell_type": "code",
   "execution_count": null,
   "id": "3383643d-484b-497b-b0c0-82d22c749621",
   "metadata": {},
   "outputs": [],
   "source": []
  }
 ],
 "metadata": {
  "kernelspec": {
   "display_name": "Python 3 (ipykernel)",
   "language": "python",
   "name": "python3"
  },
  "language_info": {
   "codemirror_mode": {
    "name": "ipython",
    "version": 3
   },
   "file_extension": ".py",
   "mimetype": "text/x-python",
   "name": "python",
   "nbconvert_exporter": "python",
   "pygments_lexer": "ipython3",
   "version": "3.10.5"
  }
 },
 "nbformat": 4,
 "nbformat_minor": 5
}
